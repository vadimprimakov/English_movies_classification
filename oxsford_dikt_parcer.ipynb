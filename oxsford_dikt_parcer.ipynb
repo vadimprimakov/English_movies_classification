{
 "cells": [
  {
   "attachments": {},
   "cell_type": "markdown",
   "id": "45a7efef",
   "metadata": {},
   "source": [
    "# Парсинг файлов словарей"
   ]
  },
  {
   "cell_type": "markdown",
   "id": "2ed13b41",
   "metadata": {},
   "source": [
    "## Подготовка данных"
   ]
  },
  {
   "cell_type": "markdown",
   "id": "2706b7b9",
   "metadata": {},
   "source": [
    "### Изучение данных"
   ]
  },
  {
   "cell_type": "code",
   "execution_count": 1,
   "id": "b722e081",
   "metadata": {},
   "outputs": [],
   "source": [
    "\n",
    "#блок загрузки бибилиотек\n",
    "import pandas as pd\n",
    "import numpy as np\n",
    "import re\n",
    "import fitz\n"
   ]
  },
  {
   "attachments": {},
   "cell_type": "markdown",
   "id": "69e98464",
   "metadata": {},
   "source": [
    "### Парсинг файлов словарей"
   ]
  },
  {
   "cell_type": "code",
   "execution_count": 2,
   "id": "6fe7fc21",
   "metadata": {},
   "outputs": [],
   "source": [
    "def pdf_parser(filename, category):\n",
    "    \"\"\" Принимаем имя файла и категории\n",
    "        Возвращаем словарь: ключ - категория, значение - список слов\n",
    "    \"\"\"\n",
    "    with fitz.open('/Users/vadimprimakov/Documents/Yandex_practicum/data/Oxford_CEFR_level/' + filename) as doc:\n",
    "        pdf_pages = ''\n",
    "        for page in doc:\n",
    "            # Чистим страницу от заголовков\n",
    "            text = re.sub(r'©.*?level\\n|©.*?here.\\n', '', page.get_text(), flags=re.DOTALL)\n",
    "            if page.number == 0:\n",
    "                text = re.sub(r'The.*?\\n', '', text, flags=re.DOTALL)\n",
    "            pdf_pages += text\n",
    "            # print(r'{}'.format(pdf_pages))\n",
    "        pdf_pages = re.sub('\\. B2','', pdf_pages)\n",
    "        pdf_pages = re.split(r'A1\\n|A2\\n|B1\\n|B2\\n|C1\\n', pdf_pages)\n",
    "    \n",
    "    pdf_pages = pdf_pages[1:]\n",
    "    \n",
    "    # Разбиваем на слова\n",
    "    word_dikt = {}\n",
    "    for category, cat in zip(pdf_pages, category):\n",
    "        words = re.split(r'\\n|\\xa0', category)\n",
    "        rezult = []\n",
    "        for line in words:\n",
    "            word = re.split(' |,', line)[0]\n",
    "            word = re.sub('[^a-z]*', '', word.lower())\n",
    "            if word != '':\n",
    "                rezult.append(word)\n",
    "        word_dikt[cat] = rezult\n",
    "        \n",
    "        \n",
    "    return word_dikt"
   ]
  },
  {
   "cell_type": "code",
   "execution_count": 3,
   "id": "eed1bed8",
   "metadata": {
    "execution": {
     "iopub.execute_input": "2023-03-03T10:16:08.415103Z",
     "iopub.status.busy": "2023-03-03T10:16:08.414649Z",
     "iopub.status.idle": "2023-03-03T10:16:08.494883Z",
     "shell.execute_reply": "2023-03-03T10:16:08.493684Z"
    },
    "papermill": {
     "duration": 0.090753,
     "end_time": "2023-03-03T10:16:08.497690",
     "exception": false,
     "start_time": "2023-03-03T10:16:08.406937",
     "status": "completed"
    },
    "tags": []
   },
   "outputs": [
    {
     "name": "stdout",
     "output_type": "stream",
     "text": [
      "A1 907 a yourself\n",
      "A2 877 ability zero\n",
      "B1 809 absolutely youth\n",
      "B2 727 abandon zone\n"
     ]
    }
   ],
   "source": [
    "dikt_oxsford_3000 = pdf_parser('The_Oxford_3000_by_CEFR_level.pdf', ['A1', 'A2', 'B1', 'B2'])\n",
    "\n",
    "for i in dikt_oxsford_3000.keys():\n",
    "    print(i, len(dikt_oxsford_3000[i]), dikt_oxsford_3000[i][0], dikt_oxsford_3000[i][-1])"
   ]
  },
  {
   "cell_type": "code",
   "execution_count": 4,
   "id": "82bc23b9",
   "metadata": {},
   "outputs": [
    {
     "name": "stdout",
     "output_type": "stream",
     "text": [
      "B2 700 absorb wrist\n",
      "C1 1315 abolish youngster\n"
     ]
    }
   ],
   "source": [
    "dikt_oxsford_5000 = pdf_parser('The_Oxford_5000_by_CEFR_level.pdf', ['B2', 'C1'])\n",
    "for i in dikt_oxsford_5000.keys():\n",
    "    print(i, len(dikt_oxsford_5000[i]), dikt_oxsford_5000[i][0], dikt_oxsford_5000[i][-1])"
   ]
  },
  {
   "cell_type": "code",
   "execution_count": 5,
   "id": "376d6ba1",
   "metadata": {},
   "outputs": [
    {
     "name": "stdout",
     "output_type": "stream",
     "text": [
      "A1 905 a yourself\n",
      "A2 872 ability zero\n",
      "B1 812 absolutely youth\n",
      "B2 733 abandon zone\n"
     ]
    }
   ],
   "source": [
    "dikt_american_3000 = pdf_parser('American_Oxford_3000_by_CEFR_level.pdf', ['A1', 'A2', 'B1', 'B2'])\n",
    "for i in dikt_american_3000.keys():\n",
    "    print(i, len(dikt_american_3000[i]), dikt_american_3000[i][0], dikt_american_3000[i][-1])"
   ]
  },
  {
   "cell_type": "code",
   "execution_count": 6,
   "id": "e777f070",
   "metadata": {
    "execution": {
     "iopub.execute_input": "2023-03-03T10:16:08.513434Z",
     "iopub.status.busy": "2023-03-03T10:16:08.512214Z",
     "iopub.status.idle": "2023-03-03T10:16:08.572806Z",
     "shell.execute_reply": "2023-03-03T10:16:08.570199Z"
    },
    "papermill": {
     "duration": 0.071455,
     "end_time": "2023-03-03T10:16:08.575735",
     "exception": false,
     "start_time": "2023-03-03T10:16:08.504280",
     "status": "completed"
    },
    "tags": []
   },
   "outputs": [
    {
     "name": "stdout",
     "output_type": "stream",
     "text": [
      "B2 702 absorb wrist\n",
      "C1 1317 abolish yield\n"
     ]
    }
   ],
   "source": [
    "dikt_american_5000 = pdf_parser('American_Oxford_5000_by_CEFR_level.pdf', ['B2', 'C1'])\n",
    "for i in dikt_american_5000.keys():\n",
    "    print(i, len(dikt_american_5000[i]), dikt_american_5000[i][0], dikt_american_5000[i][-1])"
   ]
  },
  {
   "cell_type": "code",
   "execution_count": 7,
   "id": "429f95d9",
   "metadata": {},
   "outputs": [
    {
     "data": {
      "text/plain": [
       "1317"
      ]
     },
     "execution_count": 7,
     "metadata": {},
     "output_type": "execute_result"
    }
   ],
   "source": [
    "len(dikt_american_5000['C1'])"
   ]
  },
  {
   "cell_type": "code",
   "execution_count": 8,
   "id": "cfd03543",
   "metadata": {},
   "outputs": [
    {
     "data": {
      "text/html": [
       "<div>\n",
       "<style scoped>\n",
       "    .dataframe tbody tr th:only-of-type {\n",
       "        vertical-align: middle;\n",
       "    }\n",
       "\n",
       "    .dataframe tbody tr th {\n",
       "        vertical-align: top;\n",
       "    }\n",
       "\n",
       "    .dataframe thead th {\n",
       "        text-align: right;\n",
       "    }\n",
       "</style>\n",
       "<table border=\"1\" class=\"dataframe\">\n",
       "  <thead>\n",
       "    <tr style=\"text-align: right;\">\n",
       "      <th></th>\n",
       "      <th>word</th>\n",
       "      <th>diff</th>\n",
       "    </tr>\n",
       "  </thead>\n",
       "  <tbody>\n",
       "    <tr>\n",
       "      <th>0</th>\n",
       "      <td>abdomen</td>\n",
       "      <td>C2</td>\n",
       "    </tr>\n",
       "    <tr>\n",
       "      <th>1</th>\n",
       "      <td>aberration</td>\n",
       "      <td>C2</td>\n",
       "    </tr>\n",
       "    <tr>\n",
       "      <th>2</th>\n",
       "      <td>abhorrence</td>\n",
       "      <td>C2</td>\n",
       "    </tr>\n",
       "    <tr>\n",
       "      <th>3</th>\n",
       "      <td>above all</td>\n",
       "      <td>C2</td>\n",
       "    </tr>\n",
       "    <tr>\n",
       "      <th>4</th>\n",
       "      <td>above-mentioned</td>\n",
       "      <td>C2</td>\n",
       "    </tr>\n",
       "    <tr>\n",
       "      <th>...</th>\n",
       "      <td>...</td>\n",
       "      <td>...</td>\n",
       "    </tr>\n",
       "    <tr>\n",
       "      <th>1201</th>\n",
       "      <td>yoga</td>\n",
       "      <td>C2</td>\n",
       "    </tr>\n",
       "    <tr>\n",
       "      <th>1202</th>\n",
       "      <td>youthful</td>\n",
       "      <td>C2</td>\n",
       "    </tr>\n",
       "    <tr>\n",
       "      <th>1203</th>\n",
       "      <td>zeal</td>\n",
       "      <td>C2</td>\n",
       "    </tr>\n",
       "    <tr>\n",
       "      <th>1204</th>\n",
       "      <td>zealous</td>\n",
       "      <td>C2</td>\n",
       "    </tr>\n",
       "    <tr>\n",
       "      <th>1205</th>\n",
       "      <td>zenith</td>\n",
       "      <td>C2</td>\n",
       "    </tr>\n",
       "  </tbody>\n",
       "</table>\n",
       "<p>1206 rows × 2 columns</p>\n",
       "</div>"
      ],
      "text/plain": [
       "                 word diff\n",
       "0             abdomen   C2\n",
       "1          aberration   C2\n",
       "2          abhorrence   C2\n",
       "3           above all   C2\n",
       "4     above-mentioned   C2\n",
       "...               ...  ...\n",
       "1201             yoga   C2\n",
       "1202         youthful   C2\n",
       "1203             zeal   C2\n",
       "1204          zealous   C2\n",
       "1205           zenith   C2\n",
       "\n",
       "[1206 rows x 2 columns]"
      ]
     },
     "execution_count": 8,
     "metadata": {},
     "output_type": "execute_result"
    }
   ],
   "source": [
    "dikt_c2 = pd.read_csv('/Users/vadimprimakov/Documents/Yandex_practicum/data/dict_c2.csv')\n",
    "dikt_c2['list'] = dikt_c2['list'].str.lower()\n",
    "dikt_c2['diff'] = 'C2'\n",
    "dikt_c2 = dikt_c2.rename(columns = {'list' : 'word'})\n",
    "dikt_c2"
   ]
  },
  {
   "cell_type": "code",
   "execution_count": 9,
   "id": "264e258b",
   "metadata": {},
   "outputs": [],
   "source": [
    "# Объеденим словари в один\n",
    "dikts = [dikt_oxsford_3000,\n",
    "         dikt_oxsford_5000,\n",
    "         dikt_american_3000,\n",
    "         dikt_american_5000\n",
    "        ]\n",
    "word_dikt = {}\n",
    "for dikt in dikts:\n",
    "    for key in dikt.keys():\n",
    "        if key in word_dikt:\n",
    "            word_dikt[key] = set(word_dikt[key]) | set(dikt[key])\n",
    "        else:\n",
    "            word_dikt[key] = dikt[key]"
   ]
  },
  {
   "cell_type": "code",
   "execution_count": 10,
   "id": "a4694f1a",
   "metadata": {
    "execution": {
     "iopub.execute_input": "2023-03-03T10:16:08.591417Z",
     "iopub.status.busy": "2023-03-03T10:16:08.590940Z",
     "iopub.status.idle": "2023-03-03T10:16:08.603145Z",
     "shell.execute_reply": "2023-03-03T10:16:08.602053Z"
    },
    "papermill": {
     "duration": 0.022831,
     "end_time": "2023-03-03T10:16:08.605849",
     "exception": false,
     "start_time": "2023-03-03T10:16:08.583018",
     "status": "completed"
    },
    "tags": []
   },
   "outputs": [
    {
     "name": "stdout",
     "output_type": "stream",
     "text": [
      "A1 919\n",
      "A2 905\n",
      "B1 831\n",
      "B2 1481\n",
      "C1 1360\n"
     ]
    }
   ],
   "source": [
    "word_dikt.keys()\n",
    "for i in word_dikt.keys():\n",
    "    print(i, len(word_dikt[i]))"
   ]
  },
  {
   "cell_type": "code",
   "execution_count": 11,
   "id": "007f69ce",
   "metadata": {
    "execution": {
     "iopub.execute_input": "2023-03-03T10:16:08.621480Z",
     "iopub.status.busy": "2023-03-03T10:16:08.621068Z",
     "iopub.status.idle": "2023-03-03T10:16:08.641160Z",
     "shell.execute_reply": "2023-03-03T10:16:08.639897Z"
    },
    "papermill": {
     "duration": 0.031187,
     "end_time": "2023-03-03T10:16:08.643933",
     "exception": false,
     "start_time": "2023-03-03T10:16:08.612746",
     "status": "completed"
    },
    "tags": []
   },
   "outputs": [
    {
     "data": {
      "text/html": [
       "<div>\n",
       "<style scoped>\n",
       "    .dataframe tbody tr th:only-of-type {\n",
       "        vertical-align: middle;\n",
       "    }\n",
       "\n",
       "    .dataframe tbody tr th {\n",
       "        vertical-align: top;\n",
       "    }\n",
       "\n",
       "    .dataframe thead th {\n",
       "        text-align: right;\n",
       "    }\n",
       "</style>\n",
       "<table border=\"1\" class=\"dataframe\">\n",
       "  <thead>\n",
       "    <tr style=\"text-align: right;\">\n",
       "      <th></th>\n",
       "      <th>diff</th>\n",
       "      <th>word</th>\n",
       "    </tr>\n",
       "  </thead>\n",
       "  <tbody>\n",
       "    <tr>\n",
       "      <th>0</th>\n",
       "      <td>A1</td>\n",
       "      <td>friday</td>\n",
       "    </tr>\n",
       "    <tr>\n",
       "      <th>1</th>\n",
       "      <td>A1</td>\n",
       "      <td>kilometre</td>\n",
       "    </tr>\n",
       "    <tr>\n",
       "      <th>2</th>\n",
       "      <td>A1</td>\n",
       "      <td>show</td>\n",
       "    </tr>\n",
       "    <tr>\n",
       "      <th>3</th>\n",
       "      <td>A1</td>\n",
       "      <td>kitchen</td>\n",
       "    </tr>\n",
       "    <tr>\n",
       "      <th>4</th>\n",
       "      <td>A1</td>\n",
       "      <td>between</td>\n",
       "    </tr>\n",
       "    <tr>\n",
       "      <th>...</th>\n",
       "      <td>...</td>\n",
       "      <td>...</td>\n",
       "    </tr>\n",
       "    <tr>\n",
       "      <th>5491</th>\n",
       "      <td>C1</td>\n",
       "      <td>slot</td>\n",
       "    </tr>\n",
       "    <tr>\n",
       "      <th>5492</th>\n",
       "      <td>C1</td>\n",
       "      <td>gallon</td>\n",
       "    </tr>\n",
       "    <tr>\n",
       "      <th>5493</th>\n",
       "      <td>C1</td>\n",
       "      <td>texture</td>\n",
       "    </tr>\n",
       "    <tr>\n",
       "      <th>5494</th>\n",
       "      <td>C1</td>\n",
       "      <td>coalition</td>\n",
       "    </tr>\n",
       "    <tr>\n",
       "      <th>5495</th>\n",
       "      <td>C1</td>\n",
       "      <td>verify</td>\n",
       "    </tr>\n",
       "  </tbody>\n",
       "</table>\n",
       "<p>5496 rows × 2 columns</p>\n",
       "</div>"
      ],
      "text/plain": [
       "     diff       word\n",
       "0      A1     friday\n",
       "1      A1  kilometre\n",
       "2      A1       show\n",
       "3      A1    kitchen\n",
       "4      A1    between\n",
       "...   ...        ...\n",
       "5491   C1       slot\n",
       "5492   C1     gallon\n",
       "5493   C1    texture\n",
       "5494   C1  coalition\n",
       "5495   C1     verify\n",
       "\n",
       "[5496 rows x 2 columns]"
      ]
     },
     "execution_count": 11,
     "metadata": {},
     "output_type": "execute_result"
    }
   ],
   "source": [
    "# Упакуем в датафрейм\n",
    "df_words = pd.DataFrame(columns=['diff','word'])\n",
    "\n",
    "for clas in word_dikt:\n",
    "    df_words = pd.concat([df_words, pd.DataFrame({\n",
    "                                                    'diff':[clas]*len(word_dikt[clas]),\n",
    "                                                    'word': [_ for _ in word_dikt[clas]]\n",
    "                                                    })])\n",
    "df_words = df_words.reset_index(drop=True)\n",
    "df_words"
   ]
  },
  {
   "cell_type": "code",
   "execution_count": 12,
   "id": "65570978",
   "metadata": {},
   "outputs": [
    {
     "data": {
      "text/html": [
       "<div>\n",
       "<style scoped>\n",
       "    .dataframe tbody tr th:only-of-type {\n",
       "        vertical-align: middle;\n",
       "    }\n",
       "\n",
       "    .dataframe tbody tr th {\n",
       "        vertical-align: top;\n",
       "    }\n",
       "\n",
       "    .dataframe thead th {\n",
       "        text-align: right;\n",
       "    }\n",
       "</style>\n",
       "<table border=\"1\" class=\"dataframe\">\n",
       "  <thead>\n",
       "    <tr style=\"text-align: right;\">\n",
       "      <th></th>\n",
       "      <th>diff</th>\n",
       "      <th>word</th>\n",
       "    </tr>\n",
       "  </thead>\n",
       "  <tbody>\n",
       "    <tr>\n",
       "      <th>0</th>\n",
       "      <td>A1</td>\n",
       "      <td>friday</td>\n",
       "    </tr>\n",
       "    <tr>\n",
       "      <th>1</th>\n",
       "      <td>A1</td>\n",
       "      <td>kilometre</td>\n",
       "    </tr>\n",
       "    <tr>\n",
       "      <th>2</th>\n",
       "      <td>A1</td>\n",
       "      <td>show</td>\n",
       "    </tr>\n",
       "    <tr>\n",
       "      <th>3</th>\n",
       "      <td>A1</td>\n",
       "      <td>kitchen</td>\n",
       "    </tr>\n",
       "    <tr>\n",
       "      <th>4</th>\n",
       "      <td>A1</td>\n",
       "      <td>between</td>\n",
       "    </tr>\n",
       "    <tr>\n",
       "      <th>...</th>\n",
       "      <td>...</td>\n",
       "      <td>...</td>\n",
       "    </tr>\n",
       "    <tr>\n",
       "      <th>1201</th>\n",
       "      <td>C2</td>\n",
       "      <td>yoga</td>\n",
       "    </tr>\n",
       "    <tr>\n",
       "      <th>1202</th>\n",
       "      <td>C2</td>\n",
       "      <td>youthful</td>\n",
       "    </tr>\n",
       "    <tr>\n",
       "      <th>1203</th>\n",
       "      <td>C2</td>\n",
       "      <td>zeal</td>\n",
       "    </tr>\n",
       "    <tr>\n",
       "      <th>1204</th>\n",
       "      <td>C2</td>\n",
       "      <td>zealous</td>\n",
       "    </tr>\n",
       "    <tr>\n",
       "      <th>1205</th>\n",
       "      <td>C2</td>\n",
       "      <td>zenith</td>\n",
       "    </tr>\n",
       "  </tbody>\n",
       "</table>\n",
       "<p>6702 rows × 2 columns</p>\n",
       "</div>"
      ],
      "text/plain": [
       "     diff       word\n",
       "0      A1     friday\n",
       "1      A1  kilometre\n",
       "2      A1       show\n",
       "3      A1    kitchen\n",
       "4      A1    between\n",
       "...   ...        ...\n",
       "1201   C2       yoga\n",
       "1202   C2   youthful\n",
       "1203   C2       zeal\n",
       "1204   C2    zealous\n",
       "1205   C2     zenith\n",
       "\n",
       "[6702 rows x 2 columns]"
      ]
     },
     "execution_count": 12,
     "metadata": {},
     "output_type": "execute_result"
    }
   ],
   "source": [
    "df_words = pd.concat([df_words, dikt_c2]) \n",
    "df_words"
   ]
  },
  {
   "cell_type": "code",
   "execution_count": 13,
   "id": "17c26b19",
   "metadata": {},
   "outputs": [
    {
     "data": {
      "text/plain": [
       "B2    1481\n",
       "C1    1360\n",
       "C2    1206\n",
       "A1     919\n",
       "A2     905\n",
       "B1     831\n",
       "Name: diff, dtype: int64"
      ]
     },
     "execution_count": 13,
     "metadata": {},
     "output_type": "execute_result"
    }
   ],
   "source": [
    "df_words['diff'].value_counts()"
   ]
  },
  {
   "cell_type": "code",
   "execution_count": 14,
   "id": "df51906e",
   "metadata": {},
   "outputs": [
    {
     "data": {
      "text/plain": [
       "Int64Index([1159, 2112, 5049, 4115, 2385, 2395, 4412, 3349, 3734, 3120,\n",
       "            ...\n",
       "             973, 1875, 1045, 1955, 2166, 2460,  721,  361, 1280,  648],\n",
       "           dtype='int64', length=626)"
      ]
     },
     "execution_count": 14,
     "metadata": {},
     "output_type": "execute_result"
    }
   ],
   "source": [
    "# проверим наличие дублей\n",
    "df_words[df_words.word.duplicated(keep=False)].sort_values('word')\n",
    "df_to_drop = df_words[df_words.word.duplicated(keep='last')].sort_values('word')\n",
    "df_to_drop.index"
   ]
  },
  {
   "cell_type": "code",
   "execution_count": 15,
   "id": "e3761f96",
   "metadata": {},
   "outputs": [],
   "source": [
    "# проверим наличие дублей\n",
    "df_words = df_words.drop(index = df_to_drop.index)"
   ]
  },
  {
   "cell_type": "code",
   "execution_count": 16,
   "id": "0a7b2ee4",
   "metadata": {},
   "outputs": [
    {
     "data": {
      "text/html": [
       "<div>\n",
       "<style scoped>\n",
       "    .dataframe tbody tr th:only-of-type {\n",
       "        vertical-align: middle;\n",
       "    }\n",
       "\n",
       "    .dataframe tbody tr th {\n",
       "        vertical-align: top;\n",
       "    }\n",
       "\n",
       "    .dataframe thead th {\n",
       "        text-align: right;\n",
       "    }\n",
       "</style>\n",
       "<table border=\"1\" class=\"dataframe\">\n",
       "  <thead>\n",
       "    <tr style=\"text-align: right;\">\n",
       "      <th></th>\n",
       "      <th>diff</th>\n",
       "      <th>word</th>\n",
       "    </tr>\n",
       "  </thead>\n",
       "  <tbody>\n",
       "  </tbody>\n",
       "</table>\n",
       "</div>"
      ],
      "text/plain": [
       "Empty DataFrame\n",
       "Columns: [diff, word]\n",
       "Index: []"
      ]
     },
     "execution_count": 16,
     "metadata": {},
     "output_type": "execute_result"
    }
   ],
   "source": [
    "# проверим наличие дублей\n",
    "df_words[df_words.word.duplicated(keep=False)].sort_values('word')"
   ]
  },
  {
   "cell_type": "code",
   "execution_count": 17,
   "id": "d96b7bd2",
   "metadata": {
    "execution": {
     "iopub.execute_input": "2023-03-03T10:16:08.659834Z",
     "iopub.status.busy": "2023-03-03T10:16:08.659145Z",
     "iopub.status.idle": "2023-03-03T10:16:08.677477Z",
     "shell.execute_reply": "2023-03-03T10:16:08.676564Z"
    },
    "papermill": {
     "duration": 0.029332,
     "end_time": "2023-03-03T10:16:08.680118",
     "exception": false,
     "start_time": "2023-03-03T10:16:08.650786",
     "status": "completed"
    },
    "tags": []
   },
   "outputs": [
    {
     "name": "stdout",
     "output_type": "stream",
     "text": [
      "<class 'pandas.core.frame.DataFrame'>\n",
      "Int64Index: 5831 entries, 0 to 1205\n",
      "Data columns (total 2 columns):\n",
      " #   Column  Non-Null Count  Dtype \n",
      "---  ------  --------------  ----- \n",
      " 0   diff    5831 non-null   object\n",
      " 1   word    5831 non-null   object\n",
      "dtypes: object(2)\n",
      "memory usage: 136.7+ KB\n"
     ]
    }
   ],
   "source": [
    "df_words.info()"
   ]
  },
  {
   "cell_type": "code",
   "execution_count": 18,
   "id": "233b98f9",
   "metadata": {
    "execution": {
     "iopub.execute_input": "2023-03-03T10:16:08.696593Z",
     "iopub.status.busy": "2023-03-03T10:16:08.695911Z",
     "iopub.status.idle": "2023-03-03T10:16:08.715653Z",
     "shell.execute_reply": "2023-03-03T10:16:08.714318Z"
    },
    "papermill": {
     "duration": 0.0309,
     "end_time": "2023-03-03T10:16:08.718017",
     "exception": false,
     "start_time": "2023-03-03T10:16:08.687117",
     "status": "completed"
    },
    "tags": []
   },
   "outputs": [],
   "source": [
    "# Сохраним в файл\n",
    "df_words.to_csv('oxford_dikt.csv', index=False)"
   ]
  }
 ],
 "metadata": {
  "kernelspec": {
   "display_name": "Python 3",
   "language": "python",
   "name": "python3"
  },
  "language_info": {
   "codemirror_mode": {
    "name": "ipython",
    "version": 3
   },
   "file_extension": ".py",
   "mimetype": "text/x-python",
   "name": "python",
   "nbconvert_exporter": "python",
   "pygments_lexer": "ipython3",
   "version": "3.9.1"
  },
  "papermill": {
   "default_parameters": {},
   "duration": 136.799288,
   "end_time": "2023-03-03T10:18:12.766768",
   "environment_variables": {},
   "exception": null,
   "input_path": "__notebook__.ipynb",
   "output_path": "__notebook__.ipynb",
   "parameters": {},
   "start_time": "2023-03-03T10:15:55.967480",
   "version": "2.3.4"
  },
  "vscode": {
   "interpreter": {
    "hash": "aee8b7b246df8f9039afb4144a1f6fd8d2ca17a180786b69acc140d282b71a49"
   }
  }
 },
 "nbformat": 4,
 "nbformat_minor": 5
}
